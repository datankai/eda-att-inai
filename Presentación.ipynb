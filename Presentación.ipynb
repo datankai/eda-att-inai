{
 "cells": [
  {
   "cell_type": "markdown",
   "metadata": {},
   "source": [
    "# Presentación DataDay\n",
    "\n",
    "## tiempos\n",
    "\n",
    "- 10 Problema e importancia\n",
    "- 20 Exploración de datos\n",
    "- 10 Conclusiones y Recomendaciones\n",
    "- 5 Preguntas y respuestas\n",
    "\n",
    "## Preguntas\n",
    "\n",
    "- ¿Cómo procesamos los datos?\n",
    "- ¿Qué se puede saber de esta data?\n",
    "- ¿Quién solicita la info?\n",
    "- Conexión a antenas de geolocalización espuria\n",
    "\n",
    "## Orden de datos\n",
    "- Números mas frecuentes\n",
    "- Números contra días\n",
    "- Números contra hora\n",
    "- Tipo de consumo"
   ]
  }
 ],
 "metadata": {
  "kernelspec": {
   "display_name": "Python 3",
   "language": "python",
   "name": "python3"
  },
  "language_info": {
   "codemirror_mode": {
    "name": "ipython",
    "version": 3
   },
   "file_extension": ".py",
   "mimetype": "text/x-python",
   "name": "python",
   "nbconvert_exporter": "python",
   "pygments_lexer": "ipython3",
   "version": "3.6.2"
  }
 },
 "nbformat": 4,
 "nbformat_minor": 2
}
